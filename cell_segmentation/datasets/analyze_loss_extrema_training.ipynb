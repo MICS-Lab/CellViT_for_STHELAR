{
 "cells": [
  {
   "cell_type": "markdown",
   "metadata": {},
   "source": [
    "# Analyze loss extrema => get loss weights initialization for training"
   ]
  },
  {
   "cell_type": "code",
   "execution_count": 1,
   "metadata": {},
   "outputs": [],
   "source": [
    "import pandas as pd"
   ]
  },
  {
   "cell_type": "markdown",
   "metadata": {},
   "source": [
    "## Helper functions"
   ]
  },
  {
   "cell_type": "code",
   "execution_count": 2,
   "metadata": {},
   "outputs": [],
   "source": [
    "def read_loss(training_id):\n",
    "    return pd.read_csv(f'/Volumes/DD_FGS/MICS/data_HE2CellType/HE2CT/trainings/{training_id}/train_losses_extrema_before.csv')"
   ]
  },
  {
   "cell_type": "code",
   "execution_count": 3,
   "metadata": {},
   "outputs": [],
   "source": [
    "def calculate_loss_weights(df_loss_extrema):\n",
    "\n",
    "    max_values = df_loss_extrema[df_loss_extrema['Scenario'] == 'Max'].iloc[0, 1:]\n",
    "    min_values = df_loss_extrema[df_loss_extrema['Scenario'] == 'Min'].iloc[0, 1:]\n",
    "    random_values = df_loss_extrema[df_loss_extrema['Scenario'] == 'Random'].iloc[0, 1:]\n",
    "\n",
    "    range_values = max_values - min_values\n",
    "\n",
    "    loss_weigths_range = {col: 1 / range_values[col] if range_values[col] != 0 else 0 for col in range_values.index if col!=\"Scenario\" and col!=\"total_loss\"}\n",
    "    loss_weights_random = {col: 1 / random_values[col] if random_values[col] != 0 else 0 for col in random_values.index if col!=\"Scenario\" and col!=\"total_loss\"}\n",
    "\n",
    "    print(\"Loss weights for range values:\")\n",
    "    for key, value in loss_weigths_range.items():\n",
    "        print(f\"weight_{key.rsplit('_', 1)[0]} = {round(value, 2)}\")\n",
    "\n",
    "    print(\"\\nLoss weights for random values:\")\n",
    "    for key, value in loss_weights_random.items():\n",
    "        print(f\"weight_{key.rsplit('_', 1)[0]} = {round(value, 2)}\")\n",
    "    \n",
    "    return loss_weigths_range, loss_weights_random"
   ]
  },
  {
   "cell_type": "code",
   "execution_count": 4,
   "metadata": {},
   "outputs": [],
   "source": [
    "def apply_weights(df_loss_extrema, loss_weights):\n",
    "    \n",
    "    weighted_df = df_loss_extrema.copy()\n",
    "    \n",
    "    for key, value in loss_weights.items():\n",
    "        weighted_df[key] = weighted_df[key] * value\n",
    "    weighted_df['total_loss'] = weighted_df[loss_weights.keys()].sum(axis=1)\n",
    "    \n",
    "    return weighted_df"
   ]
  },
  {
   "cell_type": "markdown",
   "metadata": {},
   "source": [
    "## training_1"
   ]
  },
  {
   "cell_type": "code",
   "execution_count": 5,
   "metadata": {},
   "outputs": [],
   "source": [
    "training_id = 'training_1'"
   ]
  },
  {
   "cell_type": "code",
   "execution_count": 6,
   "metadata": {},
   "outputs": [
    {
     "data": {
      "text/html": [
       "<div>\n",
       "<style scoped>\n",
       "    .dataframe tbody tr th:only-of-type {\n",
       "        vertical-align: middle;\n",
       "    }\n",
       "\n",
       "    .dataframe tbody tr th {\n",
       "        vertical-align: top;\n",
       "    }\n",
       "\n",
       "    .dataframe thead th {\n",
       "        text-align: right;\n",
       "    }\n",
       "</style>\n",
       "<table border=\"1\" class=\"dataframe\">\n",
       "  <thead>\n",
       "    <tr style=\"text-align: right;\">\n",
       "      <th></th>\n",
       "      <th>Scenario</th>\n",
       "      <th>np_ft_loss</th>\n",
       "      <th>np_dice_loss</th>\n",
       "      <th>hv_mse_loss</th>\n",
       "      <th>hv_msge_loss</th>\n",
       "      <th>nt_bce_loss</th>\n",
       "      <th>nt_dice_loss</th>\n",
       "      <th>nt_ft_loss</th>\n",
       "      <th>tissue_ce_loss</th>\n",
       "      <th>total_loss</th>\n",
       "    </tr>\n",
       "  </thead>\n",
       "  <tbody>\n",
       "    <tr>\n",
       "      <th>0</th>\n",
       "      <td>Min</td>\n",
       "      <td>0.0</td>\n",
       "      <td>0.00</td>\n",
       "      <td>0.0</td>\n",
       "      <td>0.00</td>\n",
       "      <td>0.00</td>\n",
       "      <td>0.00</td>\n",
       "      <td>0.00</td>\n",
       "      <td>0.00</td>\n",
       "      <td>0.00</td>\n",
       "    </tr>\n",
       "    <tr>\n",
       "      <th>1</th>\n",
       "      <td>Max</td>\n",
       "      <td>1.0</td>\n",
       "      <td>2.00</td>\n",
       "      <td>1.0</td>\n",
       "      <td>2.66</td>\n",
       "      <td>16.12</td>\n",
       "      <td>10.00</td>\n",
       "      <td>1.05</td>\n",
       "      <td>16.24</td>\n",
       "      <td>50.07</td>\n",
       "    </tr>\n",
       "    <tr>\n",
       "      <th>2</th>\n",
       "      <td>Random</td>\n",
       "      <td>0.4</td>\n",
       "      <td>1.08</td>\n",
       "      <td>0.4</td>\n",
       "      <td>2.03</td>\n",
       "      <td>2.59</td>\n",
       "      <td>9.53</td>\n",
       "      <td>1.00</td>\n",
       "      <td>2.89</td>\n",
       "      <td>19.92</td>\n",
       "    </tr>\n",
       "  </tbody>\n",
       "</table>\n",
       "</div>"
      ],
      "text/plain": [
       "  Scenario  np_ft_loss  np_dice_loss  hv_mse_loss  hv_msge_loss  nt_bce_loss  \\\n",
       "0      Min         0.0          0.00          0.0          0.00         0.00   \n",
       "1      Max         1.0          2.00          1.0          2.66        16.12   \n",
       "2   Random         0.4          1.08          0.4          2.03         2.59   \n",
       "\n",
       "   nt_dice_loss  nt_ft_loss  tissue_ce_loss  total_loss  \n",
       "0          0.00        0.00            0.00        0.00  \n",
       "1         10.00        1.05           16.24       50.07  \n",
       "2          9.53        1.00            2.89       19.92  "
      ]
     },
     "execution_count": 6,
     "metadata": {},
     "output_type": "execute_result"
    }
   ],
   "source": [
    "df_loss_extrema = read_loss(training_id)\n",
    "df_loss_extrema.round(2)"
   ]
  },
  {
   "cell_type": "code",
   "execution_count": 7,
   "metadata": {},
   "outputs": [
    {
     "name": "stdout",
     "output_type": "stream",
     "text": [
      "Loss weights for range values:\n",
      "weight_np_ft = 1.0\n",
      "weight_np_dice = 0.5\n",
      "weight_hv_mse = 1.0\n",
      "weight_hv_msge = 0.38\n",
      "weight_nt_bce = 0.06\n",
      "weight_nt_dice = 0.1\n",
      "weight_nt_ft = 0.95\n",
      "weight_tissue_ce = 0.06\n",
      "\n",
      "Loss weights for random values:\n",
      "weight_np_ft = 2.52\n",
      "weight_np_dice = 0.92\n",
      "weight_hv_mse = 2.53\n",
      "weight_hv_msge = 0.49\n",
      "weight_nt_bce = 0.39\n",
      "weight_nt_dice = 0.1\n",
      "weight_nt_ft = 1.0\n",
      "weight_tissue_ce = 0.35\n"
     ]
    }
   ],
   "source": [
    "# Before choosing weights (defaults = 1)\n",
    "loss_weigths_range, loss_weights_random = calculate_loss_weights(df_loss_extrema)"
   ]
  },
  {
   "cell_type": "code",
   "execution_count": 8,
   "metadata": {},
   "outputs": [
    {
     "data": {
      "text/html": [
       "<div>\n",
       "<style scoped>\n",
       "    .dataframe tbody tr th:only-of-type {\n",
       "        vertical-align: middle;\n",
       "    }\n",
       "\n",
       "    .dataframe tbody tr th {\n",
       "        vertical-align: top;\n",
       "    }\n",
       "\n",
       "    .dataframe thead th {\n",
       "        text-align: right;\n",
       "    }\n",
       "</style>\n",
       "<table border=\"1\" class=\"dataframe\">\n",
       "  <thead>\n",
       "    <tr style=\"text-align: right;\">\n",
       "      <th></th>\n",
       "      <th>Scenario</th>\n",
       "      <th>np_ft_loss</th>\n",
       "      <th>np_dice_loss</th>\n",
       "      <th>hv_mse_loss</th>\n",
       "      <th>hv_msge_loss</th>\n",
       "      <th>nt_bce_loss</th>\n",
       "      <th>nt_dice_loss</th>\n",
       "      <th>nt_ft_loss</th>\n",
       "      <th>tissue_ce_loss</th>\n",
       "      <th>total_loss</th>\n",
       "    </tr>\n",
       "  </thead>\n",
       "  <tbody>\n",
       "    <tr>\n",
       "      <th>0</th>\n",
       "      <td>Min</td>\n",
       "      <td>0.0</td>\n",
       "      <td>0.00</td>\n",
       "      <td>0.0</td>\n",
       "      <td>0.00</td>\n",
       "      <td>0.00</td>\n",
       "      <td>0.00</td>\n",
       "      <td>0.00</td>\n",
       "      <td>0.00</td>\n",
       "      <td>0.00</td>\n",
       "    </tr>\n",
       "    <tr>\n",
       "      <th>1</th>\n",
       "      <td>Max</td>\n",
       "      <td>1.0</td>\n",
       "      <td>1.00</td>\n",
       "      <td>1.0</td>\n",
       "      <td>1.00</td>\n",
       "      <td>1.00</td>\n",
       "      <td>1.00</td>\n",
       "      <td>1.00</td>\n",
       "      <td>1.00</td>\n",
       "      <td>8.00</td>\n",
       "    </tr>\n",
       "    <tr>\n",
       "      <th>2</th>\n",
       "      <td>Random</td>\n",
       "      <td>0.4</td>\n",
       "      <td>0.54</td>\n",
       "      <td>0.4</td>\n",
       "      <td>0.76</td>\n",
       "      <td>0.16</td>\n",
       "      <td>0.95</td>\n",
       "      <td>0.95</td>\n",
       "      <td>0.18</td>\n",
       "      <td>4.34</td>\n",
       "    </tr>\n",
       "  </tbody>\n",
       "</table>\n",
       "</div>"
      ],
      "text/plain": [
       "  Scenario  np_ft_loss  np_dice_loss  hv_mse_loss  hv_msge_loss  nt_bce_loss  \\\n",
       "0      Min         0.0          0.00          0.0          0.00         0.00   \n",
       "1      Max         1.0          1.00          1.0          1.00         1.00   \n",
       "2   Random         0.4          0.54          0.4          0.76         0.16   \n",
       "\n",
       "   nt_dice_loss  nt_ft_loss  tissue_ce_loss  total_loss  \n",
       "0          0.00        0.00            0.00        0.00  \n",
       "1          1.00        1.00            1.00        8.00  \n",
       "2          0.95        0.95            0.18        4.34  "
      ]
     },
     "execution_count": 8,
     "metadata": {},
     "output_type": "execute_result"
    }
   ],
   "source": [
    "# After choosing weights, using range values\n",
    "weighted_df_range = apply_weights(df_loss_extrema, loss_weigths_range)\n",
    "weighted_df_range.round(2)"
   ]
  },
  {
   "cell_type": "markdown",
   "metadata": {},
   "source": [
    "## training_2"
   ]
  },
  {
   "cell_type": "code",
   "execution_count": 5,
   "metadata": {},
   "outputs": [],
   "source": [
    "training_id = 'training_2'"
   ]
  },
  {
   "cell_type": "code",
   "execution_count": 6,
   "metadata": {},
   "outputs": [
    {
     "data": {
      "text/html": [
       "<div>\n",
       "<style scoped>\n",
       "    .dataframe tbody tr th:only-of-type {\n",
       "        vertical-align: middle;\n",
       "    }\n",
       "\n",
       "    .dataframe tbody tr th {\n",
       "        vertical-align: top;\n",
       "    }\n",
       "\n",
       "    .dataframe thead th {\n",
       "        text-align: right;\n",
       "    }\n",
       "</style>\n",
       "<table border=\"1\" class=\"dataframe\">\n",
       "  <thead>\n",
       "    <tr style=\"text-align: right;\">\n",
       "      <th></th>\n",
       "      <th>Scenario</th>\n",
       "      <th>np_ft_loss</th>\n",
       "      <th>np_dice_loss</th>\n",
       "      <th>hv_mse_loss</th>\n",
       "      <th>hv_msge_loss</th>\n",
       "      <th>nt_bce_loss</th>\n",
       "      <th>nt_dice_loss</th>\n",
       "      <th>nt_ft_loss</th>\n",
       "      <th>tissue_ce_loss</th>\n",
       "      <th>total_loss</th>\n",
       "    </tr>\n",
       "  </thead>\n",
       "  <tbody>\n",
       "    <tr>\n",
       "      <th>0</th>\n",
       "      <td>Min</td>\n",
       "      <td>0.0</td>\n",
       "      <td>0.00</td>\n",
       "      <td>0.0</td>\n",
       "      <td>0.00</td>\n",
       "      <td>0.00</td>\n",
       "      <td>0.00</td>\n",
       "      <td>0.00</td>\n",
       "      <td>0.00</td>\n",
       "      <td>0.00</td>\n",
       "    </tr>\n",
       "    <tr>\n",
       "      <th>1</th>\n",
       "      <td>Max</td>\n",
       "      <td>1.0</td>\n",
       "      <td>2.00</td>\n",
       "      <td>1.0</td>\n",
       "      <td>2.46</td>\n",
       "      <td>16.12</td>\n",
       "      <td>10.00</td>\n",
       "      <td>1.05</td>\n",
       "      <td>16.24</td>\n",
       "      <td>49.86</td>\n",
       "    </tr>\n",
       "    <tr>\n",
       "      <th>2</th>\n",
       "      <td>Random</td>\n",
       "      <td>0.4</td>\n",
       "      <td>1.06</td>\n",
       "      <td>0.4</td>\n",
       "      <td>1.98</td>\n",
       "      <td>2.59</td>\n",
       "      <td>9.53</td>\n",
       "      <td>1.00</td>\n",
       "      <td>2.89</td>\n",
       "      <td>19.85</td>\n",
       "    </tr>\n",
       "  </tbody>\n",
       "</table>\n",
       "</div>"
      ],
      "text/plain": [
       "  Scenario  np_ft_loss  np_dice_loss  hv_mse_loss  hv_msge_loss  nt_bce_loss  \\\n",
       "0      Min         0.0          0.00          0.0          0.00         0.00   \n",
       "1      Max         1.0          2.00          1.0          2.46        16.12   \n",
       "2   Random         0.4          1.06          0.4          1.98         2.59   \n",
       "\n",
       "   nt_dice_loss  nt_ft_loss  tissue_ce_loss  total_loss  \n",
       "0          0.00        0.00            0.00        0.00  \n",
       "1         10.00        1.05           16.24       49.86  \n",
       "2          9.53        1.00            2.89       19.85  "
      ]
     },
     "execution_count": 6,
     "metadata": {},
     "output_type": "execute_result"
    }
   ],
   "source": [
    "df_loss_extrema = read_loss(training_id)\n",
    "df_loss_extrema.round(2)"
   ]
  },
  {
   "cell_type": "code",
   "execution_count": 7,
   "metadata": {},
   "outputs": [
    {
     "name": "stdout",
     "output_type": "stream",
     "text": [
      "Loss weights for range values:\n",
      "weight_np_ft = 1.0\n",
      "weight_np_dice = 0.5\n",
      "weight_hv_mse = 1.0\n",
      "weight_hv_msge = 0.41\n",
      "weight_nt_bce = 0.06\n",
      "weight_nt_dice = 0.1\n",
      "weight_nt_ft = 0.96\n",
      "weight_tissue_ce = 0.06\n",
      "\n",
      "Loss weights for random values:\n",
      "weight_np_ft = 2.52\n",
      "weight_np_dice = 0.94\n",
      "weight_hv_mse = 2.48\n",
      "weight_hv_msge = 0.5\n",
      "weight_nt_bce = 0.39\n",
      "weight_nt_dice = 0.1\n",
      "weight_nt_ft = 1.0\n",
      "weight_tissue_ce = 0.35\n"
     ]
    }
   ],
   "source": [
    "# Before choosing weights (defaults = 1)\n",
    "loss_weigths_range, loss_weights_random = calculate_loss_weights(df_loss_extrema)"
   ]
  },
  {
   "cell_type": "code",
   "execution_count": 8,
   "metadata": {},
   "outputs": [
    {
     "data": {
      "text/html": [
       "<div>\n",
       "<style scoped>\n",
       "    .dataframe tbody tr th:only-of-type {\n",
       "        vertical-align: middle;\n",
       "    }\n",
       "\n",
       "    .dataframe tbody tr th {\n",
       "        vertical-align: top;\n",
       "    }\n",
       "\n",
       "    .dataframe thead th {\n",
       "        text-align: right;\n",
       "    }\n",
       "</style>\n",
       "<table border=\"1\" class=\"dataframe\">\n",
       "  <thead>\n",
       "    <tr style=\"text-align: right;\">\n",
       "      <th></th>\n",
       "      <th>Scenario</th>\n",
       "      <th>np_ft_loss</th>\n",
       "      <th>np_dice_loss</th>\n",
       "      <th>hv_mse_loss</th>\n",
       "      <th>hv_msge_loss</th>\n",
       "      <th>nt_bce_loss</th>\n",
       "      <th>nt_dice_loss</th>\n",
       "      <th>nt_ft_loss</th>\n",
       "      <th>tissue_ce_loss</th>\n",
       "      <th>total_loss</th>\n",
       "    </tr>\n",
       "  </thead>\n",
       "  <tbody>\n",
       "    <tr>\n",
       "      <th>0</th>\n",
       "      <td>Min</td>\n",
       "      <td>0.0</td>\n",
       "      <td>0.00</td>\n",
       "      <td>0.0</td>\n",
       "      <td>0.00</td>\n",
       "      <td>0.00</td>\n",
       "      <td>0.00</td>\n",
       "      <td>0.00</td>\n",
       "      <td>0.00</td>\n",
       "      <td>0.00</td>\n",
       "    </tr>\n",
       "    <tr>\n",
       "      <th>1</th>\n",
       "      <td>Max</td>\n",
       "      <td>1.0</td>\n",
       "      <td>1.00</td>\n",
       "      <td>1.0</td>\n",
       "      <td>1.00</td>\n",
       "      <td>1.00</td>\n",
       "      <td>1.00</td>\n",
       "      <td>1.00</td>\n",
       "      <td>1.00</td>\n",
       "      <td>8.00</td>\n",
       "    </tr>\n",
       "    <tr>\n",
       "      <th>2</th>\n",
       "      <td>Random</td>\n",
       "      <td>0.4</td>\n",
       "      <td>0.53</td>\n",
       "      <td>0.4</td>\n",
       "      <td>0.81</td>\n",
       "      <td>0.16</td>\n",
       "      <td>0.95</td>\n",
       "      <td>0.96</td>\n",
       "      <td>0.18</td>\n",
       "      <td>4.38</td>\n",
       "    </tr>\n",
       "  </tbody>\n",
       "</table>\n",
       "</div>"
      ],
      "text/plain": [
       "  Scenario  np_ft_loss  np_dice_loss  hv_mse_loss  hv_msge_loss  nt_bce_loss  \\\n",
       "0      Min         0.0          0.00          0.0          0.00         0.00   \n",
       "1      Max         1.0          1.00          1.0          1.00         1.00   \n",
       "2   Random         0.4          0.53          0.4          0.81         0.16   \n",
       "\n",
       "   nt_dice_loss  nt_ft_loss  tissue_ce_loss  total_loss  \n",
       "0          0.00        0.00            0.00        0.00  \n",
       "1          1.00        1.00            1.00        8.00  \n",
       "2          0.95        0.96            0.18        4.38  "
      ]
     },
     "execution_count": 8,
     "metadata": {},
     "output_type": "execute_result"
    }
   ],
   "source": [
    "# After choosing weights, using range values\n",
    "weighted_df_range = apply_weights(df_loss_extrema, loss_weigths_range)\n",
    "weighted_df_range.round(2)"
   ]
  },
  {
   "cell_type": "markdown",
   "metadata": {},
   "source": [
    "**==> Choice: range**"
   ]
  },
  {
   "cell_type": "markdown",
   "metadata": {},
   "source": [
    "## training_3"
   ]
  },
  {
   "cell_type": "markdown",
   "metadata": {},
   "source": [
    "- Loss extrema: same as training_2\n",
    "\n",
    "- Results after apply pre-trained model cellvit from the authors on the train set :\n",
    "    \n",
    "    - total loss: 2.7592\n",
    "    \n",
    "    - nuclei_binary_map_focaltverskyloss: 0.0314\n",
    "    - nuclei_binary_map_dice: 0.1987\n",
    "    \n",
    "    - hv_map_mse: 0.0318\n",
    "    - hv_map_msge: 0.3388\n",
    "    \n",
    "    - nuclei_type_map_bce: 5.7312\n",
    "    - nuclei_type_map_dice: 9.7729\n",
    "    - nuclei_type_map_mcfocaltverskyloss: 1.0203\n",
    "    \n",
    "    - tissue_types_ce: 2.6194"
   ]
  },
  {
   "cell_type": "code",
   "execution_count": 1,
   "metadata": {},
   "outputs": [
    {
     "name": "stdout",
     "output_type": "stream",
     "text": [
      "Loss weights using pre-trained model on first epoch on train set:\n",
      "weight_np_ft =  31.85 BUT put 0 for training_3 as we will use 'NTonly' for training\n",
      "weight_np_dice =  5.03 BUT put 0 for training_3 as we will use 'NTonly' for training\n",
      "weight_hv_mse =  31.45 BUT put 0 for training_3 as we will use 'NTonly' for training\n",
      "weight_hv_msge =  2.95 BUT put 0 for training_3 as we will use 'NTonly' for training\n",
      "weight_nt_bce =  0.17\n",
      "weight_nt_dice =  0.1\n",
      "weight_nt_ft =  0.98\n",
      "weight_tissue_ce =  0.38\n"
     ]
    }
   ],
   "source": [
    "# Loss weights using pre-trained model on first epoch on train set\n",
    "print(\"Loss weights using pre-trained model on first epoch on train set:\")\n",
    "print(\"weight_np_ft = \", round(1/0.0314, 2), \"BUT put 0 for training_3 as we will use 'NTonly' for training\")\n",
    "print(\"weight_np_dice = \", round(1/0.1987, 2), \"BUT put 0 for training_3 as we will use 'NTonly' for training\")\n",
    "print(\"weight_hv_mse = \", round(1/0.0318, 2), \"BUT put 0 for training_3 as we will use 'NTonly' for training\")\n",
    "print(\"weight_hv_msge = \", round(1/0.3388, 2), \"BUT put 0 for training_3 as we will use 'NTonly' for training\")\n",
    "print(\"weight_nt_bce = \", round(1/5.7312, 2))\n",
    "print(\"weight_nt_dice = \", round(1/9.7729, 2))\n",
    "print(\"weight_nt_ft = \", round(1/1.0203, 2))\n",
    "print(\"weight_tissue_ce = \", round(1/2.6194, 2))"
   ]
  }
 ],
 "metadata": {
  "kernelspec": {
   "display_name": "cellvit",
   "language": "python",
   "name": "python3"
  },
  "language_info": {
   "codemirror_mode": {
    "name": "ipython",
    "version": 3
   },
   "file_extension": ".py",
   "mimetype": "text/x-python",
   "name": "python",
   "nbconvert_exporter": "python",
   "pygments_lexer": "ipython3",
   "version": "3.9.7"
  }
 },
 "nbformat": 4,
 "nbformat_minor": 2
}
