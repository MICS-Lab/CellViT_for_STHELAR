{
 "cells": [
  {
   "cell_type": "markdown",
   "metadata": {},
   "source": [
    "# Calculate weights for FT loss and tissues"
   ]
  },
  {
   "cell_type": "code",
   "execution_count": 1,
   "metadata": {},
   "outputs": [],
   "source": [
    "import pandas as pd\n",
    "import json\n",
    "import numpy as np"
   ]
  },
  {
   "cell_type": "code",
   "execution_count": 2,
   "metadata": {},
   "outputs": [],
   "source": [
    "# Option more advanced for class weights for FT loss for NT branch (background in normalization + ignore cat with a small weight)\n",
    "def compute_class_weights(\n",
    "    ds_train: pd.DataFrame,\n",
    "    cell_type_cols: list,\n",
    "    ignore_cat: list,           # e.g. [\"unrelevant_class1\", \"unrelevant_class2\"]\n",
    "    fraction_unrelevant=0.1,    # fraction of the min relevant weight to assign to unrelevant classes\n",
    "    fraction_background=1.0,    # fraction for background weight relative to log-based approach or min relevant\n",
    ") -> list:\n",
    "    \"\"\"\n",
    "    Compute a final list of class weights for a multi-class segmentation/classification task.\n",
    "    The pipeline:\n",
    "      1) Compute frequency-based log-weights for relevant classes.\n",
    "      2) Set unrelevant classes to a fraction of the min relevant weight.\n",
    "      3) Handle background class either via log formula or fraction-based approach.\n",
    "      4) Normalize so sum of weights = 1.\n",
    "    \n",
    "    Returns:\n",
    "      A list of weights in the order:\n",
    "        [ background, class_1, class_2, ..., class_n ]\n",
    "      where 'background' is inserted at index 0, and the rest follow the order given in cell_type_cols.\n",
    "    \"\"\"\n",
    "\n",
    "    # Compute baseline frequencies for all classes\n",
    "    cell_type_frequencies = ds_train[cell_type_cols].sum() / ds_train[cell_type_cols].values.sum()\n",
    "\n",
    "    # Classify columns into relevant, unrelevant, and background\n",
    "    relevant_cats   = [c for c in cell_type_cols if c not in ignore_cat]\n",
    "    unrelevant_cats = [c for c in cell_type_cols if c in ignore_cat]\n",
    "\n",
    "    # Compute log-based weights for relevant classes: w_c = log(1 + 1/freq_c)\n",
    "    weights = {}\n",
    "    for cat in relevant_cats:\n",
    "        weights[cat] = np.log(1.0 + 1.0 / cell_type_frequencies[cat])\n",
    "\n",
    "    # Determine minimal relevant weight\n",
    "    if len(relevant_cats) > 0:\n",
    "        min_relevant_weight = min(weights[c] for c in relevant_cats)\n",
    "    else:\n",
    "        # Edge case: if no relevant classes remain, fallback to 1.0\n",
    "        min_relevant_weight = 1.0\n",
    "\n",
    "    # Assign a small fraction of min_relevant_weight to unrelevant classes\n",
    "    for cat in unrelevant_cats:\n",
    "        weights[cat] = fraction_unrelevant * min_relevant_weight\n",
    "\n",
    "    # Handle background weight\n",
    "    # Set it relative to min_relevant_weight\n",
    "    weights[\"Background\"] = fraction_background * min_relevant_weight\n",
    "\n",
    "    # Build final weight vector in the order: [ background, class_1, class_2, ... ]\n",
    "    final_weights = []\n",
    "    for cat in [\"Background\"] + cell_type_cols:\n",
    "        if cat not in weights:\n",
    "            raise ValueError(f\"Category '{cat}' not found in computed weights.\")\n",
    "        else:\n",
    "            final_weights.append(weights[cat])\n",
    "\n",
    "    # Normalize so sum of weights = 1\n",
    "    sum_w = sum(final_weights)\n",
    "    if sum_w > 0:\n",
    "        final_weights = [w / sum_w for w in final_weights]\n",
    "    else:\n",
    "        raise ValueError(\"Sum of final weights is zero. Check for errors in the computation.\")\n",
    "\n",
    "    # Print\n",
    "    print(\"WEIGHTS FOR FT LOSS USING LOGARITHMIC SCALING:\")\n",
    "    print([\"Background\"] + cell_type_cols)\n",
    "    print([round(w, 3) for w in final_weights])"
   ]
  },
  {
   "cell_type": "markdown",
   "metadata": {},
   "source": [
    "## ds_1"
   ]
  },
  {
   "cell_type": "code",
   "execution_count": 3,
   "metadata": {},
   "outputs": [],
   "source": [
    "dataset_id = 'ds_1'\n",
    "cell_cat_id = 'ct_1'\n",
    "ignore_cat = [] # Define the list of cell types to ignore in the loss"
   ]
  },
  {
   "cell_type": "code",
   "execution_count": 5,
   "metadata": {},
   "outputs": [
    {
     "data": {
      "text/plain": [
       "['T_NK',\n",
       " 'B_Plasma',\n",
       " 'Myeloid',\n",
       " 'Blood_vessel',\n",
       " 'Fibroblast_Myofibroblast',\n",
       " 'Epithelial',\n",
       " 'Specialized',\n",
       " 'Melanocyte',\n",
       " 'Dead']"
      ]
     },
     "execution_count": 5,
     "metadata": {},
     "output_type": "execute_result"
    }
   ],
   "source": [
    "with open(f\"/Volumes/DD1_FGS/MICS/data_HE2CellType/CT_DS/annots/annot_dicts_{cell_cat_id}/cat2color.json\", \"r\") as f:\n",
    "    cat2color = json.load(f)\n",
    "\n",
    "cell_type_cols = cell_type_cols = list(cat2color.keys()) # do not provide \"Background\"\n",
    "cell_type_cols"
   ]
  },
  {
   "cell_type": "code",
   "execution_count": 6,
   "metadata": {},
   "outputs": [
    {
     "data": {
      "text/html": [
       "<div>\n",
       "<style scoped>\n",
       "    .dataframe tbody tr th:only-of-type {\n",
       "        vertical-align: middle;\n",
       "    }\n",
       "\n",
       "    .dataframe tbody tr th {\n",
       "        vertical-align: top;\n",
       "    }\n",
       "\n",
       "    .dataframe thead th {\n",
       "        text-align: right;\n",
       "    }\n",
       "</style>\n",
       "<table border=\"1\" class=\"dataframe\">\n",
       "  <thead>\n",
       "    <tr style=\"text-align: right;\">\n",
       "      <th></th>\n",
       "      <th>T_NK</th>\n",
       "      <th>B_Plasma</th>\n",
       "      <th>Myeloid</th>\n",
       "      <th>Blood_vessel</th>\n",
       "      <th>Fibroblast_Myofibroblast</th>\n",
       "      <th>Epithelial</th>\n",
       "      <th>Specialized</th>\n",
       "      <th>Melanocyte</th>\n",
       "      <th>Dead</th>\n",
       "      <th>img</th>\n",
       "      <th>type</th>\n",
       "      <th>Dice</th>\n",
       "      <th>Jaccard</th>\n",
       "      <th>bPQ</th>\n",
       "      <th>slide_id</th>\n",
       "      <th>set</th>\n",
       "    </tr>\n",
       "  </thead>\n",
       "  <tbody>\n",
       "    <tr>\n",
       "      <th>0</th>\n",
       "      <td>0</td>\n",
       "      <td>0</td>\n",
       "      <td>1</td>\n",
       "      <td>0</td>\n",
       "      <td>1</td>\n",
       "      <td>0</td>\n",
       "      <td>2</td>\n",
       "      <td>0</td>\n",
       "      <td>0</td>\n",
       "      <td>heart_s0_362.png</td>\n",
       "      <td>Heart</td>\n",
       "      <td>0.777565</td>\n",
       "      <td>0.636079</td>\n",
       "      <td>0.480884</td>\n",
       "      <td>heart_s0</td>\n",
       "      <td>train</td>\n",
       "    </tr>\n",
       "    <tr>\n",
       "      <th>1</th>\n",
       "      <td>0</td>\n",
       "      <td>0</td>\n",
       "      <td>0</td>\n",
       "      <td>2</td>\n",
       "      <td>1</td>\n",
       "      <td>0</td>\n",
       "      <td>4</td>\n",
       "      <td>0</td>\n",
       "      <td>0</td>\n",
       "      <td>heart_s0_363.png</td>\n",
       "      <td>Heart</td>\n",
       "      <td>0.709650</td>\n",
       "      <td>0.549967</td>\n",
       "      <td>0.378748</td>\n",
       "      <td>heart_s0</td>\n",
       "      <td>train</td>\n",
       "    </tr>\n",
       "    <tr>\n",
       "      <th>2</th>\n",
       "      <td>0</td>\n",
       "      <td>0</td>\n",
       "      <td>0</td>\n",
       "      <td>1</td>\n",
       "      <td>2</td>\n",
       "      <td>0</td>\n",
       "      <td>1</td>\n",
       "      <td>0</td>\n",
       "      <td>0</td>\n",
       "      <td>heart_s0_364.png</td>\n",
       "      <td>Heart</td>\n",
       "      <td>0.813963</td>\n",
       "      <td>0.686289</td>\n",
       "      <td>0.603601</td>\n",
       "      <td>heart_s0</td>\n",
       "      <td>train</td>\n",
       "    </tr>\n",
       "    <tr>\n",
       "      <th>3</th>\n",
       "      <td>0</td>\n",
       "      <td>0</td>\n",
       "      <td>0</td>\n",
       "      <td>2</td>\n",
       "      <td>2</td>\n",
       "      <td>0</td>\n",
       "      <td>0</td>\n",
       "      <td>0</td>\n",
       "      <td>0</td>\n",
       "      <td>heart_s0_365.png</td>\n",
       "      <td>Heart</td>\n",
       "      <td>0.833883</td>\n",
       "      <td>0.715094</td>\n",
       "      <td>0.647057</td>\n",
       "      <td>heart_s0</td>\n",
       "      <td>train</td>\n",
       "    </tr>\n",
       "    <tr>\n",
       "      <th>6</th>\n",
       "      <td>0</td>\n",
       "      <td>0</td>\n",
       "      <td>0</td>\n",
       "      <td>1</td>\n",
       "      <td>0</td>\n",
       "      <td>0</td>\n",
       "      <td>0</td>\n",
       "      <td>0</td>\n",
       "      <td>0</td>\n",
       "      <td>heart_s0_437.png</td>\n",
       "      <td>Heart</td>\n",
       "      <td>0.920128</td>\n",
       "      <td>0.852071</td>\n",
       "      <td>0.852069</td>\n",
       "      <td>heart_s0</td>\n",
       "      <td>train</td>\n",
       "    </tr>\n",
       "    <tr>\n",
       "      <th>...</th>\n",
       "      <td>...</td>\n",
       "      <td>...</td>\n",
       "      <td>...</td>\n",
       "      <td>...</td>\n",
       "      <td>...</td>\n",
       "      <td>...</td>\n",
       "      <td>...</td>\n",
       "      <td>...</td>\n",
       "      <td>...</td>\n",
       "      <td>...</td>\n",
       "      <td>...</td>\n",
       "      <td>...</td>\n",
       "      <td>...</td>\n",
       "      <td>...</td>\n",
       "      <td>...</td>\n",
       "      <td>...</td>\n",
       "    </tr>\n",
       "    <tr>\n",
       "      <th>508475</th>\n",
       "      <td>0</td>\n",
       "      <td>0</td>\n",
       "      <td>0</td>\n",
       "      <td>0</td>\n",
       "      <td>0</td>\n",
       "      <td>6</td>\n",
       "      <td>0</td>\n",
       "      <td>0</td>\n",
       "      <td>33</td>\n",
       "      <td>cervix_s0_46410.png</td>\n",
       "      <td>Cervix</td>\n",
       "      <td>0.711000</td>\n",
       "      <td>0.551590</td>\n",
       "      <td>0.358931</td>\n",
       "      <td>cervix_s0</td>\n",
       "      <td>train</td>\n",
       "    </tr>\n",
       "    <tr>\n",
       "      <th>508476</th>\n",
       "      <td>0</td>\n",
       "      <td>0</td>\n",
       "      <td>0</td>\n",
       "      <td>0</td>\n",
       "      <td>0</td>\n",
       "      <td>20</td>\n",
       "      <td>0</td>\n",
       "      <td>0</td>\n",
       "      <td>46</td>\n",
       "      <td>cervix_s0_46411.png</td>\n",
       "      <td>Cervix</td>\n",
       "      <td>0.726411</td>\n",
       "      <td>0.570366</td>\n",
       "      <td>0.332126</td>\n",
       "      <td>cervix_s0</td>\n",
       "      <td>train</td>\n",
       "    </tr>\n",
       "    <tr>\n",
       "      <th>508477</th>\n",
       "      <td>0</td>\n",
       "      <td>0</td>\n",
       "      <td>0</td>\n",
       "      <td>0</td>\n",
       "      <td>0</td>\n",
       "      <td>26</td>\n",
       "      <td>0</td>\n",
       "      <td>0</td>\n",
       "      <td>24</td>\n",
       "      <td>cervix_s0_46412.png</td>\n",
       "      <td>Cervix</td>\n",
       "      <td>0.678762</td>\n",
       "      <td>0.513731</td>\n",
       "      <td>0.348578</td>\n",
       "      <td>cervix_s0</td>\n",
       "      <td>train</td>\n",
       "    </tr>\n",
       "    <tr>\n",
       "      <th>508479</th>\n",
       "      <td>0</td>\n",
       "      <td>0</td>\n",
       "      <td>0</td>\n",
       "      <td>0</td>\n",
       "      <td>0</td>\n",
       "      <td>18</td>\n",
       "      <td>0</td>\n",
       "      <td>0</td>\n",
       "      <td>2</td>\n",
       "      <td>cervix_s0_46415.png</td>\n",
       "      <td>Cervix</td>\n",
       "      <td>0.706722</td>\n",
       "      <td>0.546458</td>\n",
       "      <td>0.462859</td>\n",
       "      <td>cervix_s0</td>\n",
       "      <td>train</td>\n",
       "    </tr>\n",
       "    <tr>\n",
       "      <th>508480</th>\n",
       "      <td>1</td>\n",
       "      <td>0</td>\n",
       "      <td>0</td>\n",
       "      <td>1</td>\n",
       "      <td>9</td>\n",
       "      <td>0</td>\n",
       "      <td>0</td>\n",
       "      <td>0</td>\n",
       "      <td>15</td>\n",
       "      <td>cervix_s0_46420.png</td>\n",
       "      <td>Cervix</td>\n",
       "      <td>0.698644</td>\n",
       "      <td>0.536859</td>\n",
       "      <td>0.375538</td>\n",
       "      <td>cervix_s0</td>\n",
       "      <td>train</td>\n",
       "    </tr>\n",
       "  </tbody>\n",
       "</table>\n",
       "<p>305081 rows × 16 columns</p>\n",
       "</div>"
      ],
      "text/plain": [
       "        T_NK  B_Plasma  Myeloid  Blood_vessel  Fibroblast_Myofibroblast  \\\n",
       "0          0         0        1             0                         1   \n",
       "1          0         0        0             2                         1   \n",
       "2          0         0        0             1                         2   \n",
       "3          0         0        0             2                         2   \n",
       "6          0         0        0             1                         0   \n",
       "...      ...       ...      ...           ...                       ...   \n",
       "508475     0         0        0             0                         0   \n",
       "508476     0         0        0             0                         0   \n",
       "508477     0         0        0             0                         0   \n",
       "508479     0         0        0             0                         0   \n",
       "508480     1         0        0             1                         9   \n",
       "\n",
       "        Epithelial  Specialized  Melanocyte  Dead                  img  \\\n",
       "0                0            2           0     0     heart_s0_362.png   \n",
       "1                0            4           0     0     heart_s0_363.png   \n",
       "2                0            1           0     0     heart_s0_364.png   \n",
       "3                0            0           0     0     heart_s0_365.png   \n",
       "6                0            0           0     0     heart_s0_437.png   \n",
       "...            ...          ...         ...   ...                  ...   \n",
       "508475           6            0           0    33  cervix_s0_46410.png   \n",
       "508476          20            0           0    46  cervix_s0_46411.png   \n",
       "508477          26            0           0    24  cervix_s0_46412.png   \n",
       "508479          18            0           0     2  cervix_s0_46415.png   \n",
       "508480           0            0           0    15  cervix_s0_46420.png   \n",
       "\n",
       "          type      Dice   Jaccard       bPQ   slide_id    set  \n",
       "0        Heart  0.777565  0.636079  0.480884   heart_s0  train  \n",
       "1        Heart  0.709650  0.549967  0.378748   heart_s0  train  \n",
       "2        Heart  0.813963  0.686289  0.603601   heart_s0  train  \n",
       "3        Heart  0.833883  0.715094  0.647057   heart_s0  train  \n",
       "6        Heart  0.920128  0.852071  0.852069   heart_s0  train  \n",
       "...        ...       ...       ...       ...        ...    ...  \n",
       "508475  Cervix  0.711000  0.551590  0.358931  cervix_s0  train  \n",
       "508476  Cervix  0.726411  0.570366  0.332126  cervix_s0  train  \n",
       "508477  Cervix  0.678762  0.513731  0.348578  cervix_s0  train  \n",
       "508479  Cervix  0.706722  0.546458  0.462859  cervix_s0  train  \n",
       "508480  Cervix  0.698644  0.536859  0.375538  cervix_s0  train  \n",
       "\n",
       "[305081 rows x 16 columns]"
      ]
     },
     "execution_count": 6,
     "metadata": {},
     "output_type": "execute_result"
    }
   ],
   "source": [
    "ds_infos = pd.read_csv(f'/Volumes/DD1_FGS/MICS/data_HE2CellType/HE2CT/training_datasets/{dataset_id}/informations/infos_{dataset_id}.csv')\n",
    "ds_train = ds_infos[ds_infos['set'] == 'train']\n",
    "ds_train"
   ]
  },
  {
   "cell_type": "code",
   "execution_count": 7,
   "metadata": {},
   "outputs": [
    {
     "data": {
      "text/plain": [
       "T_NK                        0.080978\n",
       "B_Plasma                    0.095278\n",
       "Myeloid                     0.086617\n",
       "Blood_vessel                0.103765\n",
       "Fibroblast_Myofibroblast    0.084204\n",
       "Epithelial                  0.053929\n",
       "Specialized                 0.218707\n",
       "Melanocyte                  0.163323\n",
       "Dead                        0.113197\n",
       "dtype: float64"
      ]
     },
     "execution_count": 7,
     "metadata": {},
     "output_type": "execute_result"
    }
   ],
   "source": [
    "# Compute the pixel-wise frequency of each class\n",
    "cell_type_frequencies = ds_train[cell_type_cols].sum() / ds_train[cell_type_cols].values.sum()\n",
    "\n",
    "# Apply the logarithmic scaling to compute weights\n",
    "cell_type_weights = np.log(1 + (1 / cell_type_frequencies))\n",
    "\n",
    "# Set weights to zero for ignored categories\n",
    "for cat in ignore_cat:\n",
    "    if cat in cell_type_cols:\n",
    "        cell_type_weights[cell_type_cols.index(cat)] = 0\n",
    "\n",
    "# Normalize the weights (excluding the background for now)\n",
    "cell_type_weights /= cell_type_weights.sum()\n",
    "\n",
    "cell_type_weights"
   ]
  },
  {
   "cell_type": "code",
   "execution_count": 8,
   "metadata": {},
   "outputs": [
    {
     "name": "stdout",
     "output_type": "stream",
     "text": [
      "WEIGHTS FOR FT LOSS USING LOGARITHMIC SCALING:\n",
      "[0.054, 0.081, 0.095, 0.087, 0.104, 0.084, 0.054, 0.219, 0.163, 0.113]\n"
     ]
    }
   ],
   "source": [
    "# Convert to a list for further processing\n",
    "list_cell_type_weights = cell_type_weights.tolist()\n",
    "\n",
    "# Add background weight at the beginning (minimum weight from normalized weights)\n",
    "background_weight = min([w for w in list_cell_type_weights if w > 0])\n",
    "list_cell_type_weights.insert(0, background_weight)\n",
    "\n",
    "# Round the weights to the desired precision\n",
    "list_cell_type_weights = [round(w, 3) for w in list_cell_type_weights]\n",
    "\n",
    "print(\"WEIGHTS FOR FT LOSS USING LOGARITHMIC SCALING:\")\n",
    "print(list_cell_type_weights)"
   ]
  },
  {
   "cell_type": "code",
   "execution_count": 9,
   "metadata": {},
   "outputs": [
    {
     "name": "stdout",
     "output_type": "stream",
     "text": [
      "NUMBER OF CLASSES INCLUDING BACKGROUND:\n",
      "10\n"
     ]
    }
   ],
   "source": [
    "print(\"NUMBER OF CLASSES INCLUDING BACKGROUND:\")\n",
    "print(len(list_cell_type_weights)) # including the background"
   ]
  },
  {
   "cell_type": "code",
   "execution_count": 10,
   "metadata": {},
   "outputs": [
    {
     "name": "stdout",
     "output_type": "stream",
     "text": [
      "CLASSES IN RIGHT ORDER WITH BACKGROUND FIRST:\n",
      "['Background', 'T_NK', 'B_Plasma', 'Myeloid', 'Blood_vessel', 'Fibroblast_Myofibroblast', 'Epithelial', 'Specialized', 'Melanocyte', 'Dead']\n"
     ]
    }
   ],
   "source": [
    "print(\"CLASSES IN RIGHT ORDER WITH BACKGROUND FIRST:\")\n",
    "print([\"Background\"] + cell_type_cols)"
   ]
  },
  {
   "cell_type": "code",
   "execution_count": 11,
   "metadata": {},
   "outputs": [
    {
     "name": "stdout",
     "output_type": "stream",
     "text": [
      "COUNT OF PATCHES FOR EACH TISSUE TYPE (ALPHABETICAL ORDER):\n"
     ]
    },
    {
     "data": {
      "text/plain": [
       "Breast        131868\n",
       "Cervix         21296\n",
       "Colon          12921\n",
       "Heart           2888\n",
       "Kidney          6604\n",
       "Liver          17269\n",
       "Lung           16566\n",
       "LymphNode       7581\n",
       "Ovarian        18476\n",
       "Pancreatic     22330\n",
       "Prostate        7355\n",
       "Skin           16422\n",
       "Tonsil         23505\n",
       "Name: type, dtype: int64"
      ]
     },
     "execution_count": 11,
     "metadata": {},
     "output_type": "execute_result"
    }
   ],
   "source": [
    "print(\"COUNT OF PATCHES FOR EACH TISSUE TYPE (ALPHABETICAL ORDER):\")\n",
    "ds_train['type'].value_counts().sort_index()"
   ]
  },
  {
   "cell_type": "code",
   "execution_count": 12,
   "metadata": {},
   "outputs": [
    {
     "name": "stdout",
     "output_type": "stream",
     "text": [
      "NUMBER OF TISSUES:\n",
      "13\n"
     ]
    }
   ],
   "source": [
    "print(\"NUMBER OF TISSUES:\")\n",
    "print(len(ds_train['type'].unique()))"
   ]
  },
  {
   "cell_type": "code",
   "execution_count": 13,
   "metadata": {},
   "outputs": [
    {
     "name": "stdout",
     "output_type": "stream",
     "text": [
      "WEIGHTS FOR FT LOSS USING LOGARITHMIC SCALING:\n",
      "['Background', 'T_NK', 'B_Plasma', 'Myeloid', 'Blood_vessel', 'Fibroblast_Myofibroblast', 'Epithelial', 'Specialized', 'Melanocyte', 'Dead']\n",
      "[0.057, 0.086, 0.101, 0.092, 0.11, 0.089, 0.057, 0.231, 0.173, 0.006]\n"
     ]
    }
   ],
   "source": [
    "compute_class_weights(\n",
    "    ds_train=ds_train,\n",
    "    cell_type_cols=cell_type_cols,\n",
    "    ignore_cat=[\"Dead\"],\n",
    "    fraction_unrelevant=0.1,    # fraction of the min relevant weight to assign to unrelevant classes\n",
    "    fraction_background=1.0)"
   ]
  },
  {
   "cell_type": "markdown",
   "metadata": {},
   "source": [
    "## ds_2"
   ]
  },
  {
   "cell_type": "code",
   "execution_count": 2,
   "metadata": {},
   "outputs": [],
   "source": [
    "dataset_id = 'ds_2'\n",
    "cell_cat_id = 'ct_1'\n",
    "ignore_cat = [] # Define the list of cell types to ignore in the loss"
   ]
  },
  {
   "cell_type": "code",
   "execution_count": null,
   "metadata": {},
   "outputs": [
    {
     "data": {
      "text/plain": [
       "['T_NK',\n",
       " 'B_Plasma',\n",
       " 'Myeloid',\n",
       " 'Blood_vessel',\n",
       " 'Fibroblast_Myofibroblast',\n",
       " 'Epithelial',\n",
       " 'Specialized',\n",
       " 'Melanocyte',\n",
       " 'Dead']"
      ]
     },
     "execution_count": 3,
     "metadata": {},
     "output_type": "execute_result"
    }
   ],
   "source": [
    "with open(f\"/Volumes/DD1_FGS/MICS/data_HE2CellType/CT_DS/annots/annot_dicts_{cell_cat_id}/cat2color.json\", \"r\") as f:\n",
    "    cat2color = json.load(f)\n",
    "\n",
    "cell_type_cols = cell_type_cols = list(cat2color.keys()) # do not provide \"Background\"\n",
    "cell_type_cols"
   ]
  },
  {
   "cell_type": "code",
   "execution_count": null,
   "metadata": {},
   "outputs": [
    {
     "data": {
      "text/html": [
       "<div>\n",
       "<style scoped>\n",
       "    .dataframe tbody tr th:only-of-type {\n",
       "        vertical-align: middle;\n",
       "    }\n",
       "\n",
       "    .dataframe tbody tr th {\n",
       "        vertical-align: top;\n",
       "    }\n",
       "\n",
       "    .dataframe thead th {\n",
       "        text-align: right;\n",
       "    }\n",
       "</style>\n",
       "<table border=\"1\" class=\"dataframe\">\n",
       "  <thead>\n",
       "    <tr style=\"text-align: right;\">\n",
       "      <th></th>\n",
       "      <th>T_NK</th>\n",
       "      <th>B_Plasma</th>\n",
       "      <th>Myeloid</th>\n",
       "      <th>Blood_vessel</th>\n",
       "      <th>Fibroblast_Myofibroblast</th>\n",
       "      <th>Epithelial</th>\n",
       "      <th>Specialized</th>\n",
       "      <th>Melanocyte</th>\n",
       "      <th>Dead</th>\n",
       "      <th>img</th>\n",
       "      <th>type</th>\n",
       "      <th>Dice</th>\n",
       "      <th>Jaccard</th>\n",
       "      <th>bPQ</th>\n",
       "      <th>slide_id</th>\n",
       "      <th>set</th>\n",
       "    </tr>\n",
       "  </thead>\n",
       "  <tbody>\n",
       "    <tr>\n",
       "      <th>0</th>\n",
       "      <td>0</td>\n",
       "      <td>0</td>\n",
       "      <td>0</td>\n",
       "      <td>2</td>\n",
       "      <td>2</td>\n",
       "      <td>0</td>\n",
       "      <td>0</td>\n",
       "      <td>0</td>\n",
       "      <td>0</td>\n",
       "      <td>heart_s0_365.png</td>\n",
       "      <td>Heart</td>\n",
       "      <td>0.833883</td>\n",
       "      <td>0.715094</td>\n",
       "      <td>0.647057</td>\n",
       "      <td>heart_s0</td>\n",
       "      <td>train</td>\n",
       "    </tr>\n",
       "    <tr>\n",
       "      <th>2</th>\n",
       "      <td>0</td>\n",
       "      <td>0</td>\n",
       "      <td>0</td>\n",
       "      <td>0</td>\n",
       "      <td>0</td>\n",
       "      <td>0</td>\n",
       "      <td>3</td>\n",
       "      <td>0</td>\n",
       "      <td>0</td>\n",
       "      <td>heart_s0_480.png</td>\n",
       "      <td>Heart</td>\n",
       "      <td>0.851594</td>\n",
       "      <td>0.741544</td>\n",
       "      <td>0.726854</td>\n",
       "      <td>heart_s0</td>\n",
       "      <td>train</td>\n",
       "    </tr>\n",
       "    <tr>\n",
       "      <th>5</th>\n",
       "      <td>0</td>\n",
       "      <td>0</td>\n",
       "      <td>0</td>\n",
       "      <td>3</td>\n",
       "      <td>2</td>\n",
       "      <td>0</td>\n",
       "      <td>6</td>\n",
       "      <td>0</td>\n",
       "      <td>0</td>\n",
       "      <td>heart_s0_487.png</td>\n",
       "      <td>Heart</td>\n",
       "      <td>0.851922</td>\n",
       "      <td>0.742041</td>\n",
       "      <td>0.710735</td>\n",
       "      <td>heart_s0</td>\n",
       "      <td>train</td>\n",
       "    </tr>\n",
       "    <tr>\n",
       "      <th>7</th>\n",
       "      <td>0</td>\n",
       "      <td>0</td>\n",
       "      <td>1</td>\n",
       "      <td>2</td>\n",
       "      <td>2</td>\n",
       "      <td>0</td>\n",
       "      <td>1</td>\n",
       "      <td>0</td>\n",
       "      <td>0</td>\n",
       "      <td>heart_s0_489.png</td>\n",
       "      <td>Heart</td>\n",
       "      <td>0.869257</td>\n",
       "      <td>0.768748</td>\n",
       "      <td>0.743576</td>\n",
       "      <td>heart_s0</td>\n",
       "      <td>train</td>\n",
       "    </tr>\n",
       "    <tr>\n",
       "      <th>8</th>\n",
       "      <td>0</td>\n",
       "      <td>0</td>\n",
       "      <td>5</td>\n",
       "      <td>3</td>\n",
       "      <td>2</td>\n",
       "      <td>0</td>\n",
       "      <td>7</td>\n",
       "      <td>0</td>\n",
       "      <td>0</td>\n",
       "      <td>heart_s0_491.png</td>\n",
       "      <td>Heart</td>\n",
       "      <td>0.860879</td>\n",
       "      <td>0.755739</td>\n",
       "      <td>0.596328</td>\n",
       "      <td>heart_s0</td>\n",
       "      <td>train</td>\n",
       "    </tr>\n",
       "    <tr>\n",
       "      <th>...</th>\n",
       "      <td>...</td>\n",
       "      <td>...</td>\n",
       "      <td>...</td>\n",
       "      <td>...</td>\n",
       "      <td>...</td>\n",
       "      <td>...</td>\n",
       "      <td>...</td>\n",
       "      <td>...</td>\n",
       "      <td>...</td>\n",
       "      <td>...</td>\n",
       "      <td>...</td>\n",
       "      <td>...</td>\n",
       "      <td>...</td>\n",
       "      <td>...</td>\n",
       "      <td>...</td>\n",
       "      <td>...</td>\n",
       "    </tr>\n",
       "    <tr>\n",
       "      <th>148989</th>\n",
       "      <td>0</td>\n",
       "      <td>0</td>\n",
       "      <td>0</td>\n",
       "      <td>0</td>\n",
       "      <td>2</td>\n",
       "      <td>45</td>\n",
       "      <td>0</td>\n",
       "      <td>0</td>\n",
       "      <td>0</td>\n",
       "      <td>cervix_s0_45806.png</td>\n",
       "      <td>Cervix</td>\n",
       "      <td>0.833179</td>\n",
       "      <td>0.714059</td>\n",
       "      <td>0.573759</td>\n",
       "      <td>cervix_s0</td>\n",
       "      <td>train</td>\n",
       "    </tr>\n",
       "    <tr>\n",
       "      <th>148990</th>\n",
       "      <td>0</td>\n",
       "      <td>0</td>\n",
       "      <td>1</td>\n",
       "      <td>4</td>\n",
       "      <td>10</td>\n",
       "      <td>23</td>\n",
       "      <td>0</td>\n",
       "      <td>0</td>\n",
       "      <td>2</td>\n",
       "      <td>cervix_s0_45815.png</td>\n",
       "      <td>Cervix</td>\n",
       "      <td>0.832595</td>\n",
       "      <td>0.713201</td>\n",
       "      <td>0.470911</td>\n",
       "      <td>cervix_s0</td>\n",
       "      <td>train</td>\n",
       "    </tr>\n",
       "    <tr>\n",
       "      <th>148993</th>\n",
       "      <td>0</td>\n",
       "      <td>0</td>\n",
       "      <td>0</td>\n",
       "      <td>0</td>\n",
       "      <td>0</td>\n",
       "      <td>34</td>\n",
       "      <td>0</td>\n",
       "      <td>0</td>\n",
       "      <td>0</td>\n",
       "      <td>cervix_s0_46004.png</td>\n",
       "      <td>Cervix</td>\n",
       "      <td>0.857879</td>\n",
       "      <td>0.751128</td>\n",
       "      <td>0.664169</td>\n",
       "      <td>cervix_s0</td>\n",
       "      <td>train</td>\n",
       "    </tr>\n",
       "    <tr>\n",
       "      <th>148994</th>\n",
       "      <td>1</td>\n",
       "      <td>0</td>\n",
       "      <td>0</td>\n",
       "      <td>0</td>\n",
       "      <td>1</td>\n",
       "      <td>63</td>\n",
       "      <td>0</td>\n",
       "      <td>0</td>\n",
       "      <td>1</td>\n",
       "      <td>cervix_s0_46214.png</td>\n",
       "      <td>Cervix</td>\n",
       "      <td>0.826384</td>\n",
       "      <td>0.704135</td>\n",
       "      <td>0.552902</td>\n",
       "      <td>cervix_s0</td>\n",
       "      <td>train</td>\n",
       "    </tr>\n",
       "    <tr>\n",
       "      <th>148995</th>\n",
       "      <td>0</td>\n",
       "      <td>0</td>\n",
       "      <td>1</td>\n",
       "      <td>0</td>\n",
       "      <td>5</td>\n",
       "      <td>33</td>\n",
       "      <td>0</td>\n",
       "      <td>0</td>\n",
       "      <td>2</td>\n",
       "      <td>cervix_s0_46216.png</td>\n",
       "      <td>Cervix</td>\n",
       "      <td>0.831543</td>\n",
       "      <td>0.711659</td>\n",
       "      <td>0.609428</td>\n",
       "      <td>cervix_s0</td>\n",
       "      <td>train</td>\n",
       "    </tr>\n",
       "  </tbody>\n",
       "</table>\n",
       "<p>89390 rows × 16 columns</p>\n",
       "</div>"
      ],
      "text/plain": [
       "        T_NK  B_Plasma  Myeloid  Blood_vessel  Fibroblast_Myofibroblast  \\\n",
       "0          0         0        0             2                         2   \n",
       "2          0         0        0             0                         0   \n",
       "5          0         0        0             3                         2   \n",
       "7          0         0        1             2                         2   \n",
       "8          0         0        5             3                         2   \n",
       "...      ...       ...      ...           ...                       ...   \n",
       "148989     0         0        0             0                         2   \n",
       "148990     0         0        1             4                        10   \n",
       "148993     0         0        0             0                         0   \n",
       "148994     1         0        0             0                         1   \n",
       "148995     0         0        1             0                         5   \n",
       "\n",
       "        Epithelial  Specialized  Melanocyte  Dead                  img  \\\n",
       "0                0            0           0     0     heart_s0_365.png   \n",
       "2                0            3           0     0     heart_s0_480.png   \n",
       "5                0            6           0     0     heart_s0_487.png   \n",
       "7                0            1           0     0     heart_s0_489.png   \n",
       "8                0            7           0     0     heart_s0_491.png   \n",
       "...            ...          ...         ...   ...                  ...   \n",
       "148989          45            0           0     0  cervix_s0_45806.png   \n",
       "148990          23            0           0     2  cervix_s0_45815.png   \n",
       "148993          34            0           0     0  cervix_s0_46004.png   \n",
       "148994          63            0           0     1  cervix_s0_46214.png   \n",
       "148995          33            0           0     2  cervix_s0_46216.png   \n",
       "\n",
       "          type      Dice   Jaccard       bPQ   slide_id    set  \n",
       "0        Heart  0.833883  0.715094  0.647057   heart_s0  train  \n",
       "2        Heart  0.851594  0.741544  0.726854   heart_s0  train  \n",
       "5        Heart  0.851922  0.742041  0.710735   heart_s0  train  \n",
       "7        Heart  0.869257  0.768748  0.743576   heart_s0  train  \n",
       "8        Heart  0.860879  0.755739  0.596328   heart_s0  train  \n",
       "...        ...       ...       ...       ...        ...    ...  \n",
       "148989  Cervix  0.833179  0.714059  0.573759  cervix_s0  train  \n",
       "148990  Cervix  0.832595  0.713201  0.470911  cervix_s0  train  \n",
       "148993  Cervix  0.857879  0.751128  0.664169  cervix_s0  train  \n",
       "148994  Cervix  0.826384  0.704135  0.552902  cervix_s0  train  \n",
       "148995  Cervix  0.831543  0.711659  0.609428  cervix_s0  train  \n",
       "\n",
       "[89390 rows x 16 columns]"
      ]
     },
     "execution_count": 4,
     "metadata": {},
     "output_type": "execute_result"
    }
   ],
   "source": [
    "ds_infos = pd.read_csv(f'/Volumes/DD1_FGS/MICS/data_HE2CellType/HE2CT/training_datasets/{dataset_id}/informations/infos_{dataset_id}.csv')\n",
    "ds_train = ds_infos[ds_infos['set'] == 'train']\n",
    "ds_train"
   ]
  },
  {
   "cell_type": "code",
   "execution_count": 5,
   "metadata": {},
   "outputs": [
    {
     "data": {
      "text/plain": [
       "T_NK                        0.086009\n",
       "B_Plasma                    0.100562\n",
       "Myeloid                     0.090318\n",
       "Blood_vessel                0.105798\n",
       "Fibroblast_Myofibroblast    0.087633\n",
       "Epithelial                  0.043725\n",
       "Specialized                 0.193780\n",
       "Melanocyte                  0.150250\n",
       "Dead                        0.141926\n",
       "dtype: float64"
      ]
     },
     "execution_count": 5,
     "metadata": {},
     "output_type": "execute_result"
    }
   ],
   "source": [
    "# Compute the pixel-wise frequency of each class\n",
    "cell_type_frequencies = ds_train[cell_type_cols].sum() / ds_train[cell_type_cols].values.sum()\n",
    "\n",
    "# Apply the logarithmic scaling to compute weights\n",
    "cell_type_weights = np.log(1 + (1 / cell_type_frequencies))\n",
    "\n",
    "# Set weights to zero for ignored categories\n",
    "for cat in ignore_cat:\n",
    "    if cat in cell_type_cols:\n",
    "        cell_type_weights[cell_type_cols.index(cat)] = 0\n",
    "\n",
    "# Normalize the weights (excluding the background for now)\n",
    "cell_type_weights /= cell_type_weights.sum()\n",
    "\n",
    "cell_type_weights"
   ]
  },
  {
   "cell_type": "code",
   "execution_count": 6,
   "metadata": {},
   "outputs": [
    {
     "name": "stdout",
     "output_type": "stream",
     "text": [
      "WEIGHTS FOR FT LOSS USING LOGARITHMIC SCALING:\n",
      "[0.044, 0.086, 0.101, 0.09, 0.106, 0.088, 0.044, 0.194, 0.15, 0.142]\n"
     ]
    }
   ],
   "source": [
    "# Convert to a list for further processing\n",
    "list_cell_type_weights = cell_type_weights.tolist()\n",
    "\n",
    "# Add background weight at the beginning (minimum weight from normalized weights)\n",
    "background_weight = min([w for w in list_cell_type_weights if w > 0])\n",
    "list_cell_type_weights.insert(0, background_weight)\n",
    "\n",
    "# Round the weights to the desired precision\n",
    "list_cell_type_weights = [round(w, 3) for w in list_cell_type_weights]\n",
    "\n",
    "print(\"WEIGHTS FOR FT LOSS USING LOGARITHMIC SCALING:\")\n",
    "print(list_cell_type_weights)"
   ]
  },
  {
   "cell_type": "code",
   "execution_count": 7,
   "metadata": {},
   "outputs": [
    {
     "name": "stdout",
     "output_type": "stream",
     "text": [
      "NUMBER OF CLASSES INCLUDING BACKGROUND:\n",
      "10\n"
     ]
    }
   ],
   "source": [
    "print(\"NUMBER OF CLASSES INCLUDING BACKGROUND:\")\n",
    "print(len(list_cell_type_weights)) # including the background"
   ]
  },
  {
   "cell_type": "code",
   "execution_count": 8,
   "metadata": {},
   "outputs": [
    {
     "name": "stdout",
     "output_type": "stream",
     "text": [
      "CLASSES IN RIGHT ORDER WITH BACKGROUND FIRST:\n",
      "['Background', 'T_NK', 'B_Plasma', 'Myeloid', 'Blood_vessel', 'Fibroblast_Myofibroblast', 'Epithelial', 'Specialized', 'Melanocyte', 'Dead']\n"
     ]
    }
   ],
   "source": [
    "print(\"CLASSES IN RIGHT ORDER WITH BACKGROUND FIRST:\")\n",
    "print([\"Background\"] + cell_type_cols)"
   ]
  },
  {
   "cell_type": "code",
   "execution_count": 9,
   "metadata": {},
   "outputs": [
    {
     "name": "stdout",
     "output_type": "stream",
     "text": [
      "COUNT OF PATCHES FOR EACH TISSUE TYPE (ALPHABETICAL ORDER):\n"
     ]
    },
    {
     "data": {
      "text/plain": [
       "type\n",
       "Breast        43146\n",
       "Cervix         7215\n",
       "Colon           986\n",
       "Heart          1444\n",
       "Kidney         3965\n",
       "Liver          7364\n",
       "Lung           4068\n",
       "LymphNode       617\n",
       "Ovarian        5416\n",
       "Pancreatic     2797\n",
       "Prostate       1669\n",
       "Skin           4905\n",
       "Tonsil         5798\n",
       "Name: count, dtype: int64"
      ]
     },
     "execution_count": 9,
     "metadata": {},
     "output_type": "execute_result"
    }
   ],
   "source": [
    "print(\"COUNT OF PATCHES FOR EACH TISSUE TYPE (ALPHABETICAL ORDER):\")\n",
    "ds_train['type'].value_counts().sort_index()"
   ]
  },
  {
   "cell_type": "code",
   "execution_count": 10,
   "metadata": {},
   "outputs": [
    {
     "name": "stdout",
     "output_type": "stream",
     "text": [
      "NUMBER OF TISSUES:\n",
      "13\n"
     ]
    }
   ],
   "source": [
    "print(\"NUMBER OF TISSUES:\")\n",
    "print(len(ds_train['type'].unique()))"
   ]
  },
  {
   "cell_type": "markdown",
   "metadata": {},
   "source": [
    "#### New option for weighting:"
   ]
  },
  {
   "cell_type": "code",
   "execution_count": 8,
   "metadata": {},
   "outputs": [
    {
     "name": "stdout",
     "output_type": "stream",
     "text": [
      "WEIGHTS FOR FT LOSS USING LOGARITHMIC SCALING:\n",
      "['Background', 'T_NK', 'B_Plasma', 'Myeloid', 'Blood_vessel', 'Fibroblast_Myofibroblast', 'Epithelial', 'Specialized', 'Melanocyte', 'Dead']\n",
      "[0.048, 0.095, 0.111, 0.1, 0.117, 0.097, 0.048, 0.214, 0.166, 0.005]\n"
     ]
    }
   ],
   "source": [
    "compute_class_weights(\n",
    "    ds_train=ds_train,\n",
    "    cell_type_cols=cell_type_cols,\n",
    "    ignore_cat=[\"Dead\"],\n",
    "    fraction_unrelevant=0.1,    # fraction of the min relevant weight to assign to unrelevant classes\n",
    "    fraction_background=1.0)"
   ]
  },
  {
   "cell_type": "markdown",
   "metadata": {},
   "source": [
    "## ds_3"
   ]
  },
  {
   "cell_type": "code",
   "execution_count": 3,
   "metadata": {},
   "outputs": [],
   "source": [
    "dataset_id = 'ds_3'\n",
    "cell_cat_id = 'ct_3'\n",
    "ignore_cat = ['Other'] # Define the list of cell types to ignore in the loss"
   ]
  },
  {
   "cell_type": "code",
   "execution_count": null,
   "metadata": {},
   "outputs": [
    {
     "data": {
      "text/plain": [
       "['Immune', 'Stromal', 'Epithelial', 'Melanocyte', 'Other']"
      ]
     },
     "execution_count": 4,
     "metadata": {},
     "output_type": "execute_result"
    }
   ],
   "source": [
    "with open(f\"/Volumes/DD1_FGS/MICS/data_HE2CellType/CT_DS/annots/annot_dicts_{cell_cat_id}/cat2color.json\", \"r\") as f:\n",
    "    cat2color = json.load(f)\n",
    "\n",
    "cell_type_cols = cell_type_cols = list(cat2color.keys()) # do not provide \"Background\"\n",
    "cell_type_cols"
   ]
  },
  {
   "cell_type": "code",
   "execution_count": null,
   "metadata": {},
   "outputs": [
    {
     "data": {
      "text/html": [
       "<div>\n",
       "<style scoped>\n",
       "    .dataframe tbody tr th:only-of-type {\n",
       "        vertical-align: middle;\n",
       "    }\n",
       "\n",
       "    .dataframe tbody tr th {\n",
       "        vertical-align: top;\n",
       "    }\n",
       "\n",
       "    .dataframe thead th {\n",
       "        text-align: right;\n",
       "    }\n",
       "</style>\n",
       "<table border=\"1\" class=\"dataframe\">\n",
       "  <thead>\n",
       "    <tr style=\"text-align: right;\">\n",
       "      <th></th>\n",
       "      <th>Epithelial</th>\n",
       "      <th>Melanocyte</th>\n",
       "      <th>Immune</th>\n",
       "      <th>Stromal</th>\n",
       "      <th>Other</th>\n",
       "      <th>img</th>\n",
       "      <th>type</th>\n",
       "      <th>Dice</th>\n",
       "      <th>Jaccard</th>\n",
       "      <th>bPQ</th>\n",
       "      <th>slide_id</th>\n",
       "      <th>set</th>\n",
       "    </tr>\n",
       "  </thead>\n",
       "  <tbody>\n",
       "    <tr>\n",
       "      <th>2</th>\n",
       "      <td>0</td>\n",
       "      <td>0</td>\n",
       "      <td>0</td>\n",
       "      <td>0</td>\n",
       "      <td>3</td>\n",
       "      <td>heart_s0_480.png</td>\n",
       "      <td>Heart</td>\n",
       "      <td>0.851594</td>\n",
       "      <td>0.741544</td>\n",
       "      <td>0.726854</td>\n",
       "      <td>heart_s0</td>\n",
       "      <td>train</td>\n",
       "    </tr>\n",
       "    <tr>\n",
       "      <th>3</th>\n",
       "      <td>0</td>\n",
       "      <td>0</td>\n",
       "      <td>0</td>\n",
       "      <td>4</td>\n",
       "      <td>5</td>\n",
       "      <td>heart_s0_483.png</td>\n",
       "      <td>Heart</td>\n",
       "      <td>0.843884</td>\n",
       "      <td>0.729930</td>\n",
       "      <td>0.542883</td>\n",
       "      <td>heart_s0</td>\n",
       "      <td>train</td>\n",
       "    </tr>\n",
       "    <tr>\n",
       "      <th>5</th>\n",
       "      <td>0</td>\n",
       "      <td>0</td>\n",
       "      <td>0</td>\n",
       "      <td>5</td>\n",
       "      <td>6</td>\n",
       "      <td>heart_s0_487.png</td>\n",
       "      <td>Heart</td>\n",
       "      <td>0.851922</td>\n",
       "      <td>0.742041</td>\n",
       "      <td>0.710735</td>\n",
       "      <td>heart_s0</td>\n",
       "      <td>train</td>\n",
       "    </tr>\n",
       "    <tr>\n",
       "      <th>6</th>\n",
       "      <td>0</td>\n",
       "      <td>0</td>\n",
       "      <td>1</td>\n",
       "      <td>2</td>\n",
       "      <td>2</td>\n",
       "      <td>heart_s0_488.png</td>\n",
       "      <td>Heart</td>\n",
       "      <td>0.864434</td>\n",
       "      <td>0.761237</td>\n",
       "      <td>0.671951</td>\n",
       "      <td>heart_s0</td>\n",
       "      <td>train</td>\n",
       "    </tr>\n",
       "    <tr>\n",
       "      <th>7</th>\n",
       "      <td>0</td>\n",
       "      <td>0</td>\n",
       "      <td>1</td>\n",
       "      <td>4</td>\n",
       "      <td>1</td>\n",
       "      <td>heart_s0_489.png</td>\n",
       "      <td>Heart</td>\n",
       "      <td>0.869257</td>\n",
       "      <td>0.768748</td>\n",
       "      <td>0.743576</td>\n",
       "      <td>heart_s0</td>\n",
       "      <td>train</td>\n",
       "    </tr>\n",
       "    <tr>\n",
       "      <th>...</th>\n",
       "      <td>...</td>\n",
       "      <td>...</td>\n",
       "      <td>...</td>\n",
       "      <td>...</td>\n",
       "      <td>...</td>\n",
       "      <td>...</td>\n",
       "      <td>...</td>\n",
       "      <td>...</td>\n",
       "      <td>...</td>\n",
       "      <td>...</td>\n",
       "      <td>...</td>\n",
       "      <td>...</td>\n",
       "    </tr>\n",
       "    <tr>\n",
       "      <th>148989</th>\n",
       "      <td>45</td>\n",
       "      <td>0</td>\n",
       "      <td>0</td>\n",
       "      <td>2</td>\n",
       "      <td>0</td>\n",
       "      <td>cervix_s0_45806.png</td>\n",
       "      <td>Cervix</td>\n",
       "      <td>0.833179</td>\n",
       "      <td>0.714059</td>\n",
       "      <td>0.573759</td>\n",
       "      <td>cervix_s0</td>\n",
       "      <td>train</td>\n",
       "    </tr>\n",
       "    <tr>\n",
       "      <th>148990</th>\n",
       "      <td>23</td>\n",
       "      <td>0</td>\n",
       "      <td>1</td>\n",
       "      <td>14</td>\n",
       "      <td>2</td>\n",
       "      <td>cervix_s0_45815.png</td>\n",
       "      <td>Cervix</td>\n",
       "      <td>0.832595</td>\n",
       "      <td>0.713201</td>\n",
       "      <td>0.470911</td>\n",
       "      <td>cervix_s0</td>\n",
       "      <td>train</td>\n",
       "    </tr>\n",
       "    <tr>\n",
       "      <th>148991</th>\n",
       "      <td>0</td>\n",
       "      <td>0</td>\n",
       "      <td>1</td>\n",
       "      <td>2</td>\n",
       "      <td>0</td>\n",
       "      <td>cervix_s0_45971.png</td>\n",
       "      <td>Cervix</td>\n",
       "      <td>0.828354</td>\n",
       "      <td>0.707000</td>\n",
       "      <td>0.532206</td>\n",
       "      <td>cervix_s0</td>\n",
       "      <td>train</td>\n",
       "    </tr>\n",
       "    <tr>\n",
       "      <th>148992</th>\n",
       "      <td>59</td>\n",
       "      <td>0</td>\n",
       "      <td>0</td>\n",
       "      <td>0</td>\n",
       "      <td>2</td>\n",
       "      <td>cervix_s0_45987.png</td>\n",
       "      <td>Cervix</td>\n",
       "      <td>0.824035</td>\n",
       "      <td>0.700731</td>\n",
       "      <td>0.460038</td>\n",
       "      <td>cervix_s0</td>\n",
       "      <td>train</td>\n",
       "    </tr>\n",
       "    <tr>\n",
       "      <th>148993</th>\n",
       "      <td>34</td>\n",
       "      <td>0</td>\n",
       "      <td>0</td>\n",
       "      <td>0</td>\n",
       "      <td>0</td>\n",
       "      <td>cervix_s0_46004.png</td>\n",
       "      <td>Cervix</td>\n",
       "      <td>0.857879</td>\n",
       "      <td>0.751128</td>\n",
       "      <td>0.664169</td>\n",
       "      <td>cervix_s0</td>\n",
       "      <td>train</td>\n",
       "    </tr>\n",
       "  </tbody>\n",
       "</table>\n",
       "<p>89390 rows × 12 columns</p>\n",
       "</div>"
      ],
      "text/plain": [
       "        Epithelial  Melanocyte  Immune  Stromal  Other                  img  \\\n",
       "2                0           0       0        0      3     heart_s0_480.png   \n",
       "3                0           0       0        4      5     heart_s0_483.png   \n",
       "5                0           0       0        5      6     heart_s0_487.png   \n",
       "6                0           0       1        2      2     heart_s0_488.png   \n",
       "7                0           0       1        4      1     heart_s0_489.png   \n",
       "...            ...         ...     ...      ...    ...                  ...   \n",
       "148989          45           0       0        2      0  cervix_s0_45806.png   \n",
       "148990          23           0       1       14      2  cervix_s0_45815.png   \n",
       "148991           0           0       1        2      0  cervix_s0_45971.png   \n",
       "148992          59           0       0        0      2  cervix_s0_45987.png   \n",
       "148993          34           0       0        0      0  cervix_s0_46004.png   \n",
       "\n",
       "          type      Dice   Jaccard       bPQ   slide_id    set  \n",
       "2        Heart  0.851594  0.741544  0.726854   heart_s0  train  \n",
       "3        Heart  0.843884  0.729930  0.542883   heart_s0  train  \n",
       "5        Heart  0.851922  0.742041  0.710735   heart_s0  train  \n",
       "6        Heart  0.864434  0.761237  0.671951   heart_s0  train  \n",
       "7        Heart  0.869257  0.768748  0.743576   heart_s0  train  \n",
       "...        ...       ...       ...       ...        ...    ...  \n",
       "148989  Cervix  0.833179  0.714059  0.573759  cervix_s0  train  \n",
       "148990  Cervix  0.832595  0.713201  0.470911  cervix_s0  train  \n",
       "148991  Cervix  0.828354  0.707000  0.532206  cervix_s0  train  \n",
       "148992  Cervix  0.824035  0.700731  0.460038  cervix_s0  train  \n",
       "148993  Cervix  0.857879  0.751128  0.664169  cervix_s0  train  \n",
       "\n",
       "[89390 rows x 12 columns]"
      ]
     },
     "execution_count": 5,
     "metadata": {},
     "output_type": "execute_result"
    }
   ],
   "source": [
    "ds_infos = pd.read_csv(f'/Volumes/DD1_FGS/MICS/data_HE2CellType/HE2CT/training_datasets/{dataset_id}/informations/infos_{dataset_id}.csv')\n",
    "ds_train = ds_infos[ds_infos['set'] == 'train']\n",
    "ds_train"
   ]
  },
  {
   "cell_type": "code",
   "execution_count": 7,
   "metadata": {},
   "outputs": [
    {
     "name": "stdout",
     "output_type": "stream",
     "text": [
      "NUMBER OF CLASSES INCLUDING BACKGROUND:\n",
      "6\n"
     ]
    }
   ],
   "source": [
    "print(\"NUMBER OF CLASSES INCLUDING BACKGROUND:\")\n",
    "print(len([\"Background\"] + cell_type_cols)) # including the background"
   ]
  },
  {
   "cell_type": "code",
   "execution_count": 8,
   "metadata": {},
   "outputs": [
    {
     "name": "stdout",
     "output_type": "stream",
     "text": [
      "CLASSES IN RIGHT ORDER WITH BACKGROUND FIRST:\n",
      "['Background', 'Immune', 'Stromal', 'Epithelial', 'Melanocyte', 'Other']\n"
     ]
    }
   ],
   "source": [
    "print(\"CLASSES IN RIGHT ORDER WITH BACKGROUND FIRST:\")\n",
    "print([\"Background\"] + cell_type_cols)"
   ]
  },
  {
   "cell_type": "code",
   "execution_count": 9,
   "metadata": {},
   "outputs": [
    {
     "name": "stdout",
     "output_type": "stream",
     "text": [
      "COUNT OF PATCHES FOR EACH TISSUE TYPE (ALPHABETICAL ORDER):\n"
     ]
    },
    {
     "data": {
      "text/plain": [
       "Breast        43146\n",
       "Cervix         7215\n",
       "Colon           986\n",
       "Heart          1444\n",
       "Kidney         3965\n",
       "Liver          7364\n",
       "Lung           4068\n",
       "LymphNode       617\n",
       "Ovarian        5416\n",
       "Pancreatic     2797\n",
       "Prostate       1669\n",
       "Skin           4905\n",
       "Tonsil         5798\n",
       "Name: type, dtype: int64"
      ]
     },
     "execution_count": 9,
     "metadata": {},
     "output_type": "execute_result"
    }
   ],
   "source": [
    "print(\"COUNT OF PATCHES FOR EACH TISSUE TYPE (ALPHABETICAL ORDER):\")\n",
    "ds_train['type'].value_counts().sort_index()"
   ]
  },
  {
   "cell_type": "code",
   "execution_count": 10,
   "metadata": {},
   "outputs": [
    {
     "name": "stdout",
     "output_type": "stream",
     "text": [
      "NUMBER OF TISSUES:\n",
      "13\n"
     ]
    }
   ],
   "source": [
    "print(\"NUMBER OF TISSUES:\")\n",
    "print(len(ds_train['type'].unique()))"
   ]
  },
  {
   "cell_type": "markdown",
   "metadata": {},
   "source": [
    "#### New option for weighting:"
   ]
  },
  {
   "cell_type": "code",
   "execution_count": 11,
   "metadata": {},
   "outputs": [
    {
     "name": "stdout",
     "output_type": "stream",
     "text": [
      "WEIGHTS FOR FT LOSS USING LOGARITHMIC SCALING:\n",
      "['Background', 'Immune', 'Stromal', 'Epithelial', 'Melanocyte', 'Other']\n",
      "[0.118, 0.151, 0.194, 0.118, 0.407, 0.012]\n"
     ]
    }
   ],
   "source": [
    "compute_class_weights(\n",
    "    ds_train=ds_train,\n",
    "    cell_type_cols=cell_type_cols,\n",
    "    ignore_cat=[\"Other\"],\n",
    "    fraction_unrelevant=0.1,    # fraction of the min relevant weight to assign to unrelevant classes\n",
    "    fraction_background=1.0)"
   ]
  },
  {
   "cell_type": "markdown",
   "metadata": {},
   "source": [
    "## ds_4"
   ]
  },
  {
   "cell_type": "code",
   "execution_count": 3,
   "metadata": {},
   "outputs": [],
   "source": [
    "dataset_id = 'ds_4'\n",
    "cell_cat_id = 'ct_3'\n",
    "ignore_cat = ['Other'] # Define the list of cell types to ignore in the loss"
   ]
  },
  {
   "cell_type": "code",
   "execution_count": null,
   "metadata": {},
   "outputs": [],
   "source": [
    "with open(f\"/Volumes/DD1_FGS/MICS/data_HE2CellType/CT_DS/annots/annot_dicts_{cell_cat_id}/cat2color.json\", \"r\") as f:\n",
    "    cat2color = json.load(f)"
   ]
  },
  {
   "cell_type": "code",
   "execution_count": 5,
   "metadata": {},
   "outputs": [
    {
     "data": {
      "text/plain": [
       "['Immune', 'Stromal', 'Epithelial', 'Melanocyte', 'Other']"
      ]
     },
     "execution_count": 5,
     "metadata": {},
     "output_type": "execute_result"
    }
   ],
   "source": [
    "cell_type_cols = cell_type_cols = list(cat2color.keys()) # do not provide \"Background\"\n",
    "cell_type_cols"
   ]
  },
  {
   "cell_type": "code",
   "execution_count": null,
   "metadata": {},
   "outputs": [
    {
     "data": {
      "text/html": [
       "<div>\n",
       "<style scoped>\n",
       "    .dataframe tbody tr th:only-of-type {\n",
       "        vertical-align: middle;\n",
       "    }\n",
       "\n",
       "    .dataframe tbody tr th {\n",
       "        vertical-align: top;\n",
       "    }\n",
       "\n",
       "    .dataframe thead th {\n",
       "        text-align: right;\n",
       "    }\n",
       "</style>\n",
       "<table border=\"1\" class=\"dataframe\">\n",
       "  <thead>\n",
       "    <tr style=\"text-align: right;\">\n",
       "      <th></th>\n",
       "      <th>Epithelial</th>\n",
       "      <th>Melanocyte</th>\n",
       "      <th>Immune</th>\n",
       "      <th>Stromal</th>\n",
       "      <th>Other</th>\n",
       "      <th>img</th>\n",
       "      <th>type</th>\n",
       "      <th>Dice</th>\n",
       "      <th>Jaccard</th>\n",
       "      <th>bPQ</th>\n",
       "      <th>slide_id</th>\n",
       "      <th>set</th>\n",
       "    </tr>\n",
       "  </thead>\n",
       "  <tbody>\n",
       "    <tr>\n",
       "      <th>1</th>\n",
       "      <td>0</td>\n",
       "      <td>0</td>\n",
       "      <td>0</td>\n",
       "      <td>3</td>\n",
       "      <td>4</td>\n",
       "      <td>heart_s0_363.png</td>\n",
       "      <td>Heart</td>\n",
       "      <td>0.709650</td>\n",
       "      <td>0.549967</td>\n",
       "      <td>0.378748</td>\n",
       "      <td>heart_s0</td>\n",
       "      <td>train</td>\n",
       "    </tr>\n",
       "    <tr>\n",
       "      <th>3</th>\n",
       "      <td>0</td>\n",
       "      <td>0</td>\n",
       "      <td>0</td>\n",
       "      <td>4</td>\n",
       "      <td>0</td>\n",
       "      <td>heart_s0_365.png</td>\n",
       "      <td>Heart</td>\n",
       "      <td>0.833883</td>\n",
       "      <td>0.715094</td>\n",
       "      <td>0.647057</td>\n",
       "      <td>heart_s0</td>\n",
       "      <td>train</td>\n",
       "    </tr>\n",
       "    <tr>\n",
       "      <th>5</th>\n",
       "      <td>0</td>\n",
       "      <td>0</td>\n",
       "      <td>0</td>\n",
       "      <td>3</td>\n",
       "      <td>2</td>\n",
       "      <td>heart_s0_367.png</td>\n",
       "      <td>Heart</td>\n",
       "      <td>0.676033</td>\n",
       "      <td>0.510612</td>\n",
       "      <td>0.615884</td>\n",
       "      <td>heart_s0</td>\n",
       "      <td>train</td>\n",
       "    </tr>\n",
       "    <tr>\n",
       "      <th>6</th>\n",
       "      <td>0</td>\n",
       "      <td>0</td>\n",
       "      <td>0</td>\n",
       "      <td>1</td>\n",
       "      <td>0</td>\n",
       "      <td>heart_s0_437.png</td>\n",
       "      <td>Heart</td>\n",
       "      <td>0.920128</td>\n",
       "      <td>0.852071</td>\n",
       "      <td>0.852069</td>\n",
       "      <td>heart_s0</td>\n",
       "      <td>train</td>\n",
       "    </tr>\n",
       "    <tr>\n",
       "      <th>8</th>\n",
       "      <td>0</td>\n",
       "      <td>0</td>\n",
       "      <td>0</td>\n",
       "      <td>0</td>\n",
       "      <td>3</td>\n",
       "      <td>heart_s0_480.png</td>\n",
       "      <td>Heart</td>\n",
       "      <td>0.851594</td>\n",
       "      <td>0.741544</td>\n",
       "      <td>0.726854</td>\n",
       "      <td>heart_s0</td>\n",
       "      <td>train</td>\n",
       "    </tr>\n",
       "    <tr>\n",
       "      <th>...</th>\n",
       "      <td>...</td>\n",
       "      <td>...</td>\n",
       "      <td>...</td>\n",
       "      <td>...</td>\n",
       "      <td>...</td>\n",
       "      <td>...</td>\n",
       "      <td>...</td>\n",
       "      <td>...</td>\n",
       "      <td>...</td>\n",
       "      <td>...</td>\n",
       "      <td>...</td>\n",
       "      <td>...</td>\n",
       "    </tr>\n",
       "    <tr>\n",
       "      <th>508475</th>\n",
       "      <td>6</td>\n",
       "      <td>0</td>\n",
       "      <td>0</td>\n",
       "      <td>0</td>\n",
       "      <td>33</td>\n",
       "      <td>cervix_s0_46410.png</td>\n",
       "      <td>Cervix</td>\n",
       "      <td>0.711000</td>\n",
       "      <td>0.551590</td>\n",
       "      <td>0.358931</td>\n",
       "      <td>cervix_s0</td>\n",
       "      <td>train</td>\n",
       "    </tr>\n",
       "    <tr>\n",
       "      <th>508476</th>\n",
       "      <td>20</td>\n",
       "      <td>0</td>\n",
       "      <td>0</td>\n",
       "      <td>0</td>\n",
       "      <td>46</td>\n",
       "      <td>cervix_s0_46411.png</td>\n",
       "      <td>Cervix</td>\n",
       "      <td>0.726411</td>\n",
       "      <td>0.570366</td>\n",
       "      <td>0.332126</td>\n",
       "      <td>cervix_s0</td>\n",
       "      <td>train</td>\n",
       "    </tr>\n",
       "    <tr>\n",
       "      <th>508477</th>\n",
       "      <td>26</td>\n",
       "      <td>0</td>\n",
       "      <td>0</td>\n",
       "      <td>0</td>\n",
       "      <td>24</td>\n",
       "      <td>cervix_s0_46412.png</td>\n",
       "      <td>Cervix</td>\n",
       "      <td>0.678762</td>\n",
       "      <td>0.513731</td>\n",
       "      <td>0.348578</td>\n",
       "      <td>cervix_s0</td>\n",
       "      <td>train</td>\n",
       "    </tr>\n",
       "    <tr>\n",
       "      <th>508481</th>\n",
       "      <td>0</td>\n",
       "      <td>0</td>\n",
       "      <td>6</td>\n",
       "      <td>8</td>\n",
       "      <td>17</td>\n",
       "      <td>cervix_s0_46421.png</td>\n",
       "      <td>Cervix</td>\n",
       "      <td>0.730785</td>\n",
       "      <td>0.575777</td>\n",
       "      <td>0.446292</td>\n",
       "      <td>cervix_s0</td>\n",
       "      <td>train</td>\n",
       "    </tr>\n",
       "    <tr>\n",
       "      <th>508482</th>\n",
       "      <td>0</td>\n",
       "      <td>0</td>\n",
       "      <td>3</td>\n",
       "      <td>6</td>\n",
       "      <td>12</td>\n",
       "      <td>cervix_s0_46422.png</td>\n",
       "      <td>Cervix</td>\n",
       "      <td>0.749292</td>\n",
       "      <td>0.599094</td>\n",
       "      <td>0.390617</td>\n",
       "      <td>cervix_s0</td>\n",
       "      <td>train</td>\n",
       "    </tr>\n",
       "  </tbody>\n",
       "</table>\n",
       "<p>305101 rows × 12 columns</p>\n",
       "</div>"
      ],
      "text/plain": [
       "        Epithelial  Melanocyte  Immune  Stromal  Other                  img  \\\n",
       "1                0           0       0        3      4     heart_s0_363.png   \n",
       "3                0           0       0        4      0     heart_s0_365.png   \n",
       "5                0           0       0        3      2     heart_s0_367.png   \n",
       "6                0           0       0        1      0     heart_s0_437.png   \n",
       "8                0           0       0        0      3     heart_s0_480.png   \n",
       "...            ...         ...     ...      ...    ...                  ...   \n",
       "508475           6           0       0        0     33  cervix_s0_46410.png   \n",
       "508476          20           0       0        0     46  cervix_s0_46411.png   \n",
       "508477          26           0       0        0     24  cervix_s0_46412.png   \n",
       "508481           0           0       6        8     17  cervix_s0_46421.png   \n",
       "508482           0           0       3        6     12  cervix_s0_46422.png   \n",
       "\n",
       "          type      Dice   Jaccard       bPQ   slide_id    set  \n",
       "1        Heart  0.709650  0.549967  0.378748   heart_s0  train  \n",
       "3        Heart  0.833883  0.715094  0.647057   heart_s0  train  \n",
       "5        Heart  0.676033  0.510612  0.615884   heart_s0  train  \n",
       "6        Heart  0.920128  0.852071  0.852069   heart_s0  train  \n",
       "8        Heart  0.851594  0.741544  0.726854   heart_s0  train  \n",
       "...        ...       ...       ...       ...        ...    ...  \n",
       "508475  Cervix  0.711000  0.551590  0.358931  cervix_s0  train  \n",
       "508476  Cervix  0.726411  0.570366  0.332126  cervix_s0  train  \n",
       "508477  Cervix  0.678762  0.513731  0.348578  cervix_s0  train  \n",
       "508481  Cervix  0.730785  0.575777  0.446292  cervix_s0  train  \n",
       "508482  Cervix  0.749292  0.599094  0.390617  cervix_s0  train  \n",
       "\n",
       "[305101 rows x 12 columns]"
      ]
     },
     "execution_count": 6,
     "metadata": {},
     "output_type": "execute_result"
    }
   ],
   "source": [
    "ds_infos = pd.read_csv(f'/Volumes/DD1_FGS/MICS/data_HE2CellType/HE2CT/training_datasets/{dataset_id}/informations/infos_{dataset_id}.csv')\n",
    "ds_train = ds_infos[ds_infos['set'] == 'train']\n",
    "ds_train"
   ]
  },
  {
   "cell_type": "code",
   "execution_count": 7,
   "metadata": {},
   "outputs": [
    {
     "name": "stdout",
     "output_type": "stream",
     "text": [
      "NUMBER OF CLASSES INCLUDING BACKGROUND:\n",
      "6\n"
     ]
    }
   ],
   "source": [
    "print(\"NUMBER OF CLASSES INCLUDING BACKGROUND:\")\n",
    "print(len([\"Background\"] + cell_type_cols)) # including the background"
   ]
  },
  {
   "cell_type": "code",
   "execution_count": 8,
   "metadata": {},
   "outputs": [
    {
     "name": "stdout",
     "output_type": "stream",
     "text": [
      "CLASSES IN RIGHT ORDER WITH BACKGROUND FIRST:\n",
      "['Background', 'Immune', 'Stromal', 'Epithelial', 'Melanocyte', 'Other']\n"
     ]
    }
   ],
   "source": [
    "print(\"CLASSES IN RIGHT ORDER WITH BACKGROUND FIRST:\")\n",
    "print([\"Background\"] + cell_type_cols)"
   ]
  },
  {
   "cell_type": "code",
   "execution_count": 9,
   "metadata": {},
   "outputs": [
    {
     "name": "stdout",
     "output_type": "stream",
     "text": [
      "COUNT OF PATCHES FOR EACH TISSUE TYPE (ALPHABETICAL ORDER):\n"
     ]
    },
    {
     "data": {
      "text/plain": [
       "Breast        131871\n",
       "Cervix         21296\n",
       "Colon          12922\n",
       "Heart           2888\n",
       "Kidney          6606\n",
       "Liver          17271\n",
       "Lung           16568\n",
       "LymphNode       7582\n",
       "Ovarian        18478\n",
       "Pancreatic     22332\n",
       "Prostate        7355\n",
       "Skin           16426\n",
       "Tonsil         23506\n",
       "Name: type, dtype: int64"
      ]
     },
     "execution_count": 9,
     "metadata": {},
     "output_type": "execute_result"
    }
   ],
   "source": [
    "print(\"COUNT OF PATCHES FOR EACH TISSUE TYPE (ALPHABETICAL ORDER):\")\n",
    "ds_train['type'].value_counts().sort_index()"
   ]
  },
  {
   "cell_type": "code",
   "execution_count": 11,
   "metadata": {},
   "outputs": [
    {
     "name": "stdout",
     "output_type": "stream",
     "text": [
      "NUMBER OF TISSUES:\n",
      "13\n"
     ]
    }
   ],
   "source": [
    "print(\"NUMBER OF TISSUES:\")\n",
    "print(len(ds_train['type'].unique()))"
   ]
  },
  {
   "cell_type": "code",
   "execution_count": 10,
   "metadata": {},
   "outputs": [
    {
     "name": "stdout",
     "output_type": "stream",
     "text": [
      "WEIGHTS FOR FT LOSS USING LOGARITHMIC SCALING:\n",
      "['Background', 'Immune', 'Stromal', 'Epithelial', 'Melanocyte', 'Other']\n",
      "[0.131, 0.131, 0.175, 0.137, 0.414, 0.013]\n"
     ]
    }
   ],
   "source": [
    "compute_class_weights(\n",
    "    ds_train=ds_train,\n",
    "    cell_type_cols=cell_type_cols,\n",
    "    ignore_cat=[\"Other\"],\n",
    "    fraction_unrelevant=0.1,    # fraction of the min relevant weight to assign to unrelevant classes\n",
    "    fraction_background=1.0)"
   ]
  }
 ],
 "metadata": {
  "kernelspec": {
   "display_name": "cellvit",
   "language": "python",
   "name": "python3"
  },
  "language_info": {
   "codemirror_mode": {
    "name": "ipython",
    "version": 3
   },
   "file_extension": ".py",
   "mimetype": "text/x-python",
   "name": "python",
   "nbconvert_exporter": "python",
   "pygments_lexer": "ipython3",
   "version": "3.9.7"
  }
 },
 "nbformat": 4,
 "nbformat_minor": 2
}
